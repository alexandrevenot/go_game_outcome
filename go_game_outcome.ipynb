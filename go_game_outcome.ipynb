{
 "cells": [
  {
   "cell_type": "markdown",
   "metadata": {},
   "source": [
    "# GO Game outcome prediction\n",
    "\n",
    "### Principle\n",
    "\n",
    "A GO player who is able to tell if a board is a winning board or a losing board should be a good player: He would simply have to chose the move that will bring him the most winning board.\n",
    "\n",
    "### Content\n",
    "\n",
    "This code produces a neural network that learns what is and what is not a winning board, by seeing 41563 GO game boards. It tries to predict the probability with which the blacks win."
   ]
  },
  {
   "cell_type": "markdown",
   "metadata": {},
   "source": [
    "### Getting raw data"
   ]
  },
  {
   "cell_type": "code",
   "execution_count": 1,
   "metadata": {},
   "outputs": [],
   "source": [
    "import gzip\n",
    "import json\n",
    "\n",
    "#Training set\n",
    "with gzip.open(\"samples-9x9.json.gz\") as fz:\n",
    "    dataset = json.loads(fz.read().decode(\"utf-8\"))\n",
    "\n",
    "#Testing set\n",
    "with gzip.open(\"positions-to-evaluate-9x9-attempt.json.gz\") as fz2:\n",
    "    testing_set = json.loads(fz2.read().decode(\"utf-8\"))\n",
    "    \n",
    "#Testing set results\n",
    "with open(\"positions-to-evaluate-9x9-attempt.results.txt\", \"r\") as f:\n",
    "    testing_set_res = [float(line.strip()) for line in f if line]"
   ]
  },
  {
   "cell_type": "markdown",
   "metadata": {},
   "source": [
    "### Visualize dataset"
   ]
  },
  {
   "cell_type": "code",
   "execution_count": 2,
   "metadata": {},
   "outputs": [
    {
     "name": "stdout",
     "output_type": "stream",
     "text": [
      "Sample 10\n",
      "\n",
      "Raw JSON data: {'depth': 8, 'list_of_moves': ['C6', 'E7', 'C3', 'C8', 'E5', 'G3', 'B7', 'H7'], 'black_stones': ['B7', 'C6', 'E5', 'C3'], 'white_stones': ['C8', 'E7', 'H7', 'G3'], 'rollouts': 100, 'black_wins': 60, 'black_points': 876.0, 'white_wins': 40, 'white_points': 378.0}\n",
      "\n",
      "The sample was obtained after 8 moves\n",
      "The successive moves were ['C6', 'E7', 'C3', 'C8', 'E5', 'G3', 'B7', 'H7']\n",
      "After these moves and all the captures, there was black stones at the following position ['B7', 'C6', 'E5', 'C3']\n",
      "After these moves and all the captures, there was white stones at the following position ['C8', 'E7', 'H7', 'G3']\n",
      "Number of rollouts (gnugo games played against itself from this position): 100\n",
      "Over these 100 games, black won 60 times with 876.0 total points over all this winning games\n",
      "Over these 100 games, white won 40 times with 378.0 total points over all this winning games\n"
     ]
    }
   ],
   "source": [
    "def summary_of_example(training_set, sample_nb):\n",
    "    ''' Gives you some insights about a sample number'''\n",
    "    sample = dataset[sample_nb]\n",
    "    print(\"Sample\", sample_nb)\n",
    "    print()\n",
    "    print(\"Raw JSON data:\", sample)\n",
    "    print()\n",
    "    print(\"The sample was obtained after\", sample[\"depth\"], \"moves\")\n",
    "    print(\"The successive moves were\", sample[\"list_of_moves\"])\n",
    "    print(\"After these moves and all the captures, there was black stones at the following position\", sample[\"black_stones\"])\n",
    "    print(\"After these moves and all the captures, there was white stones at the following position\", sample[\"white_stones\"])\n",
    "    print(\"Number of rollouts (gnugo games played against itself from this position):\", sample[\"rollouts\"])\n",
    "    print(\"Over these\", sample[\"rollouts\"], \"games, black won\", sample[\"black_wins\"], \"times with\", sample[\"black_points\"], \"total points over all this winning games\")\n",
    "    print(\"Over these\", sample[\"rollouts\"], \"games, white won\", sample[\"white_wins\"], \"times with\", sample[\"white_points\"], \"total points over all this winning games\")\n",
    "\n",
    "summary_of_example(dataset,10)"
   ]
  },
  {
   "cell_type": "markdown",
   "metadata": {},
   "source": [
    "### Processing data - X_train, y_train, X_test, y_test"
   ]
  },
  {
   "cell_type": "code",
   "execution_count": 3,
   "metadata": {},
   "outputs": [],
   "source": [
    "import numpy as np\n",
    "\n",
    "def name_to_coord(s):\n",
    "    assert s != \"PASS\"\n",
    "    indexLetters = {'A':0, 'B':1, 'C':2, 'D':3, 'E':4, 'F':5, 'G':6, 'H':7, 'J':8}\n",
    "\n",
    "    col = indexLetters[s[0]]\n",
    "    lin = int(s[1:]) - 1\n",
    "    return col, lin\n",
    "\n",
    "#Building X_train\n",
    "X_train = np.zeros([len(dataset),9,9,2])\n",
    "i = 0\n",
    "for sample in dataset:\n",
    "    for move in sample[\"black_stones\"]:\n",
    "        coord = name_to_coord(move)\n",
    "        X_train[i][coord][0] = 1\n",
    "    for move in sample[\"white_stones\"]:\n",
    "        coord = name_to_coord(move)\n",
    "        X_train[i][coord][1] = 1\n",
    "    i+=1\n",
    "\n",
    "#Building y_train\n",
    "y_train = np.zeros([len(dataset)])\n",
    "for k in range(len(dataset)):\n",
    "    y_train[k] = dataset[k][\"black_wins\"]/dataset[k][\"rollouts\"]\n",
    "    \n",
    "#Building X_test\n",
    "X_test = np.zeros([len(testing_set),9,9,2])\n",
    "i = 0\n",
    "for sample in testing_set:\n",
    "    for move in sample[\"black_stones\"]:\n",
    "        coord = name_to_coord(move)\n",
    "        X_test[i][coord][0] = 1\n",
    "    for move in sample[\"white_stones\"]:\n",
    "        coord = name_to_coord(move)\n",
    "        X_test[i][coord][1] = 1\n",
    "    i+=1\n",
    "\n",
    "#Building y_test\n",
    "y_test = testing_set_res"
   ]
  },
  {
   "cell_type": "markdown",
   "metadata": {},
   "source": [
    "### Building the neural network"
   ]
  },
  {
   "cell_type": "code",
   "execution_count": 4,
   "metadata": {},
   "outputs": [
    {
     "name": "stdout",
     "output_type": "stream",
     "text": [
      "Model: \"sequential\"\n",
      "_________________________________________________________________\n",
      "Layer (type)                 Output Shape              Param #   \n",
      "=================================================================\n",
      "conv2d (Conv2D)              (None, 9, 9, 16)          816       \n",
      "_________________________________________________________________\n",
      "batch_normalization (BatchNo (None, 9, 9, 16)          64        \n",
      "_________________________________________________________________\n",
      "dropout (Dropout)            (None, 9, 9, 16)          0         \n",
      "_________________________________________________________________\n",
      "activation (Activation)      (None, 9, 9, 16)          0         \n",
      "_________________________________________________________________\n",
      "conv2d_1 (Conv2D)            (None, 9, 9, 1)           145       \n",
      "_________________________________________________________________\n",
      "flatten (Flatten)            (None, 81)                0         \n",
      "_________________________________________________________________\n",
      "dense (Dense)                (None, 50)                4100      \n",
      "_________________________________________________________________\n",
      "dense_1 (Dense)              (None, 1)                 51        \n",
      "=================================================================\n",
      "Total params: 5,176\n",
      "Trainable params: 5,144\n",
      "Non-trainable params: 32\n",
      "_________________________________________________________________\n"
     ]
    }
   ],
   "source": [
    "import tensorflow.keras\n",
    "from tensorflow.keras.models import Sequential\n",
    "from tensorflow.keras.layers import Dense, Dropout, Activation, Flatten\n",
    "from tensorflow.keras.layers import Conv2D, BatchNormalization\n",
    "import tensorflow.keras.optimizers as optimizers\n",
    "from tensorflow.keras.callbacks import Callback\n",
    "from tensorflow.keras.callbacks import History\n",
    "import matplotlib\n",
    "import matplotlib.pyplot as plt\n",
    "\n",
    "\n",
    "model = Sequential()\n",
    "model.add(Conv2D(16,5,activation='relu',padding='same',input_shape=(9, 9, 2)))\n",
    "model.add(BatchNormalization())\n",
    "model.add(Dropout(0.15))\n",
    "model.add(Activation('relu'))\n",
    "model.add(Conv2D(1,3,activation='relu',padding='same',data_format=\"channels_last\",input_shape=(9, 9, 2)))\n",
    "model.add(Flatten())\n",
    "model.add(Dense(50))\n",
    "model.add(Dense(1,activation='sigmoid'))\n",
    "\n",
    "model.compile(loss = 'mean_squared_error',\n",
    "                 optimizer = optimizers.RMSprop(lr=0.0005),\n",
    "                 metrics = ['mae'])\n",
    "\n",
    "model.summary()"
   ]
  },
  {
   "cell_type": "markdown",
   "metadata": {},
   "source": [
    "### Training the network"
   ]
  },
  {
   "cell_type": "code",
   "execution_count": 5,
   "metadata": {},
   "outputs": [
    {
     "name": "stdout",
     "output_type": "stream",
     "text": [
      "Epoch 1/48\n",
      "195/195 [==============================] - 4s 22ms/step - loss: 0.1177 - mae: 0.2789 - val_loss: 0.1346 - val_mae: 0.3239\n",
      "Epoch 2/48\n",
      "195/195 [==============================] - 1s 4ms/step - loss: 0.0994 - mae: 0.2531 - val_loss: 0.1230 - val_mae: 0.3083\n",
      "Epoch 3/48\n",
      "195/195 [==============================] - 1s 4ms/step - loss: 0.0923 - mae: 0.2414 - val_loss: 0.0935 - val_mae: 0.2552\n",
      "Epoch 4/48\n",
      "195/195 [==============================] - 1s 4ms/step - loss: 0.0878 - mae: 0.2338 - val_loss: 0.0851 - val_mae: 0.2361\n",
      "Epoch 5/48\n",
      "195/195 [==============================] - 1s 4ms/step - loss: 0.0833 - mae: 0.2269 - val_loss: 0.0803 - val_mae: 0.2228\n",
      "Epoch 6/48\n",
      "195/195 [==============================] - 1s 4ms/step - loss: 0.0809 - mae: 0.2227 - val_loss: 0.0877 - val_mae: 0.2438\n",
      "Epoch 7/48\n",
      "195/195 [==============================] - 1s 4ms/step - loss: 0.0788 - mae: 0.2197 - val_loss: 0.0764 - val_mae: 0.2115\n",
      "Epoch 8/48\n",
      "195/195 [==============================] - 1s 4ms/step - loss: 0.0770 - mae: 0.2165 - val_loss: 0.0744 - val_mae: 0.2099\n",
      "Epoch 9/48\n",
      "195/195 [==============================] - 1s 4ms/step - loss: 0.0759 - mae: 0.2141 - val_loss: 0.0730 - val_mae: 0.2096\n",
      "Epoch 10/48\n",
      "195/195 [==============================] - 1s 4ms/step - loss: 0.0743 - mae: 0.2118 - val_loss: 0.0721 - val_mae: 0.2074\n",
      "Epoch 11/48\n",
      "195/195 [==============================] - 1s 4ms/step - loss: 0.0733 - mae: 0.2101 - val_loss: 0.0721 - val_mae: 0.2126\n",
      "Epoch 12/48\n",
      "195/195 [==============================] - 1s 4ms/step - loss: 0.0717 - mae: 0.2076 - val_loss: 0.0701 - val_mae: 0.2065\n",
      "Epoch 13/48\n",
      "195/195 [==============================] - 1s 4ms/step - loss: 0.0713 - mae: 0.2075 - val_loss: 0.0703 - val_mae: 0.2023\n",
      "Epoch 14/48\n",
      "195/195 [==============================] - 1s 4ms/step - loss: 0.0706 - mae: 0.2062 - val_loss: 0.0690 - val_mae: 0.2064\n",
      "Epoch 15/48\n",
      "195/195 [==============================] - 1s 4ms/step - loss: 0.0698 - mae: 0.2048 - val_loss: 0.0679 - val_mae: 0.1985\n",
      "Epoch 16/48\n",
      "195/195 [==============================] - 1s 4ms/step - loss: 0.0691 - mae: 0.2032 - val_loss: 0.0683 - val_mae: 0.2062\n",
      "Epoch 17/48\n",
      "195/195 [==============================] - 1s 4ms/step - loss: 0.0687 - mae: 0.2032 - val_loss: 0.0660 - val_mae: 0.1996\n",
      "Epoch 18/48\n",
      "195/195 [==============================] - 1s 4ms/step - loss: 0.0679 - mae: 0.2017 - val_loss: 0.0676 - val_mae: 0.2043\n",
      "Epoch 19/48\n",
      "195/195 [==============================] - 1s 4ms/step - loss: 0.0671 - mae: 0.2006 - val_loss: 0.0677 - val_mae: 0.2057\n",
      "Epoch 20/48\n",
      "195/195 [==============================] - 1s 4ms/step - loss: 0.0666 - mae: 0.1999 - val_loss: 0.0729 - val_mae: 0.1972\n",
      "Epoch 21/48\n",
      "195/195 [==============================] - 1s 4ms/step - loss: 0.0664 - mae: 0.1993 - val_loss: 0.0654 - val_mae: 0.1934\n",
      "Epoch 22/48\n",
      "195/195 [==============================] - 1s 4ms/step - loss: 0.0659 - mae: 0.1985 - val_loss: 0.0658 - val_mae: 0.1945\n",
      "Epoch 23/48\n",
      "195/195 [==============================] - 1s 4ms/step - loss: 0.0656 - mae: 0.1978 - val_loss: 0.0694 - val_mae: 0.2085\n",
      "Epoch 24/48\n",
      "195/195 [==============================] - 1s 4ms/step - loss: 0.0651 - mae: 0.1970 - val_loss: 0.0640 - val_mae: 0.1985\n",
      "Epoch 25/48\n",
      "195/195 [==============================] - 1s 4ms/step - loss: 0.0649 - mae: 0.1966 - val_loss: 0.0632 - val_mae: 0.1936\n",
      "Epoch 26/48\n",
      "195/195 [==============================] - 1s 4ms/step - loss: 0.0646 - mae: 0.1959 - val_loss: 0.0632 - val_mae: 0.1958\n",
      "Epoch 27/48\n",
      "195/195 [==============================] - 1s 4ms/step - loss: 0.0648 - mae: 0.1962 - val_loss: 0.0669 - val_mae: 0.2064\n",
      "Epoch 28/48\n",
      "195/195 [==============================] - 1s 4ms/step - loss: 0.0643 - mae: 0.1959 - val_loss: 0.0633 - val_mae: 0.1902\n",
      "Epoch 29/48\n",
      "195/195 [==============================] - 1s 4ms/step - loss: 0.0642 - mae: 0.1955 - val_loss: 0.0681 - val_mae: 0.2084\n",
      "Epoch 30/48\n",
      "195/195 [==============================] - 1s 4ms/step - loss: 0.0643 - mae: 0.1953 - val_loss: 0.0721 - val_mae: 0.2154\n",
      "Epoch 31/48\n",
      "195/195 [==============================] - 1s 5ms/step - loss: 0.0637 - mae: 0.1947 - val_loss: 0.0627 - val_mae: 0.1966\n",
      "Epoch 32/48\n",
      "195/195 [==============================] - 1s 4ms/step - loss: 0.0631 - mae: 0.1938 - val_loss: 0.0780 - val_mae: 0.2267\n",
      "Epoch 33/48\n",
      "195/195 [==============================] - 1s 4ms/step - loss: 0.0633 - mae: 0.1937 - val_loss: 0.0634 - val_mae: 0.1984\n",
      "Epoch 34/48\n",
      "195/195 [==============================] - 1s 4ms/step - loss: 0.0629 - mae: 0.1929 - val_loss: 0.0624 - val_mae: 0.1953\n",
      "Epoch 35/48\n",
      "195/195 [==============================] - 1s 4ms/step - loss: 0.0624 - mae: 0.1925 - val_loss: 0.0650 - val_mae: 0.2007\n",
      "Epoch 36/48\n",
      "195/195 [==============================] - 1s 4ms/step - loss: 0.0630 - mae: 0.1931 - val_loss: 0.0649 - val_mae: 0.2015\n",
      "Epoch 37/48\n",
      "195/195 [==============================] - 1s 4ms/step - loss: 0.0625 - mae: 0.1927 - val_loss: 0.0612 - val_mae: 0.1915\n",
      "Epoch 38/48\n",
      "195/195 [==============================] - 1s 4ms/step - loss: 0.0623 - mae: 0.1928 - val_loss: 0.0638 - val_mae: 0.1989\n",
      "Epoch 39/48\n",
      "195/195 [==============================] - 1s 4ms/step - loss: 0.0620 - mae: 0.1917 - val_loss: 0.0612 - val_mae: 0.1931\n",
      "Epoch 40/48\n",
      "195/195 [==============================] - 1s 4ms/step - loss: 0.0614 - mae: 0.1906 - val_loss: 0.0620 - val_mae: 0.1951\n",
      "Epoch 41/48\n",
      "195/195 [==============================] - 1s 4ms/step - loss: 0.0620 - mae: 0.1910 - val_loss: 0.0730 - val_mae: 0.2174\n",
      "Epoch 42/48\n",
      "195/195 [==============================] - 1s 4ms/step - loss: 0.0619 - mae: 0.1916 - val_loss: 0.0607 - val_mae: 0.1864\n",
      "Epoch 43/48\n",
      "195/195 [==============================] - 1s 4ms/step - loss: 0.0615 - mae: 0.1908 - val_loss: 0.0782 - val_mae: 0.2253\n",
      "Epoch 44/48\n",
      "195/195 [==============================] - 1s 4ms/step - loss: 0.0612 - mae: 0.1905 - val_loss: 0.0609 - val_mae: 0.1912\n",
      "Epoch 45/48\n",
      "195/195 [==============================] - 1s 4ms/step - loss: 0.0616 - mae: 0.1908 - val_loss: 0.0606 - val_mae: 0.1924\n",
      "Epoch 46/48\n",
      "195/195 [==============================] - 1s 4ms/step - loss: 0.0605 - mae: 0.1889 - val_loss: 0.0617 - val_mae: 0.1945\n",
      "Epoch 47/48\n",
      "195/195 [==============================] - 1s 4ms/step - loss: 0.0608 - mae: 0.1895 - val_loss: 0.0612 - val_mae: 0.1849\n",
      "Epoch 48/48\n",
      "195/195 [==============================] - 1s 4ms/step - loss: 0.0610 - mae: 0.1899 - val_loss: 0.0596 - val_mae: 0.1893\n"
     ]
    }
   ],
   "source": [
    "history = model.fit(X_train, y_train, validation_split = 0.4,\n",
    "         batch_size = 128,\n",
    "         epochs = 48,\n",
    "         verbose = 1)"
   ]
  },
  {
   "cell_type": "markdown",
   "metadata": {},
   "source": [
    "### Visualize loss"
   ]
  },
  {
   "cell_type": "code",
   "execution_count": 6,
   "metadata": {},
   "outputs": [
    {
     "data": {
      "image/png": "[encoded data removed]",
      "text/plain": [
       "<Figure size 432x288 with 1 Axes>"
      ]
     },
     "metadata": {
      "needs_background": "light"
     },
     "output_type": "display_data"
    }
   ],
   "source": [
    "plt.figure()\n",
    "plt.plot(history.history['loss'])\n",
    "plt.plot(history.history['val_loss'])\n",
    "plt.plot(history.history['mae'])\n",
    "plt.plot(history.history['val_mae'])\n",
    "plt.show()"
   ]
  },
  {
   "cell_type": "markdown",
   "metadata": {},
   "source": [
    "### Predict "
   ]
  },
  {
   "cell_type": "code",
   "execution_count": 9,
   "metadata": {},
   "outputs": [
    {
     "name": "stdout",
     "output_type": "stream",
     "text": [
      "MSE on the testing set: 0.06289741200349251\n"
     ]
    }
   ],
   "source": [
    "predictions = model.predict(X_test)\n",
    "\n",
    "from sklearn.metrics import mean_squared_error\n",
    "print(\"MSE on the testing set:\",mean_squared_error(y_test,predictions))"
   ]
  },
  {
   "cell_type": "markdown",
   "metadata": {},
   "source": [
    "-> We get a model that is able to predict the outcome of a GO Game with a tiny error, just by seeing the board."
   ]
  },
  {
   "cell_type": "code",
   "execution_count": null,
   "metadata": {},
   "outputs": [],
   "source": []
  }
 ],
 "metadata": {
  "kernelspec": {
   "display_name": "Python 3",
   "language": "python",
   "name": "python3"
  },
  "language_info": {
   "codemirror_mode": {
    "name": "ipython",
    "version": 3
   },
   "file_extension": ".py",
   "mimetype": "text/x-python",
   "name": "python",
   "nbconvert_exporter": "python",
   "pygments_lexer": "ipython3",
   "version": "3.8.3"
  }
 },
 "nbformat": 4,
 "nbformat_minor": 4
}
